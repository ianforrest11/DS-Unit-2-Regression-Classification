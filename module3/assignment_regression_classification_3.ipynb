{
  "nbformat": 4,
  "nbformat_minor": 0,
  "metadata": {
    "colab": {
      "name": "assignment_regression_classification_3.ipynb",
      "version": "0.3.2",
      "provenance": [],
      "collapsed_sections": [],
      "include_colab_link": true
    },
    "kernelspec": {
      "name": "python3",
      "display_name": "Python 3"
    }
  },
  "cells": [
    {
      "cell_type": "markdown",
      "metadata": {
        "id": "view-in-github",
        "colab_type": "text"
      },
      "source": [
        "<a href=\"https://colab.research.google.com/github/ianforrest11/DS-Unit-2-Regression-Classification/blob/master/module3/assignment_regression_classification_3.ipynb\" target=\"_parent\"><img src=\"https://colab.research.google.com/assets/colab-badge.svg\" alt=\"Open In Colab\"/></a>"
      ]
    },
    {
      "cell_type": "markdown",
      "metadata": {
        "id": "7IXUfiQ2UKj6",
        "colab_type": "text"
      },
      "source": [
        "Lambda School Data Science, Unit 2: Predictive Modeling\n",
        "\n",
        "# Regression & Classification, Module 3\n",
        "\n",
        "## Assignment\n",
        "\n",
        "We're going back to our other **New York City** real estate dataset. Instead of predicting apartment rents, you'll predict property sales prices.\n",
        "\n",
        "But not just for condos in Tribeca...\n",
        "\n",
        "Instead, predict property sales prices for **One Family Dwellings** (`BUILDING_CLASS_CATEGORY` == `'01 ONE FAMILY DWELLINGS'`) using a subset of the data where the **sale price was more than \\\\$100 thousand and less than $2 million.** \n",
        "\n",
        "The [NYC Department of Finance](https://www1.nyc.gov/site/finance/taxes/property-rolling-sales-data.page) has a glossary of property sales terms and NYC Building Class Code Descriptions. The data comes from the [NYC OpenData](https://data.cityofnewyork.us/browse?q=NYC%20calendar%20sales) portal.\n",
        "\n",
        "\n",
        "- [X] Do train/test split. Use data from January — March 2019 to train. Use data from April 2019 to test.\n",
        "- [X] Do exploratory visualizations with Seaborn.\n",
        "- [X] Do one-hot encoding of categorical features.\n",
        "- [X] Do feature selection with `SelectKBest`.\n",
        "- [X] Fit a linear regression model with multiple features.\n",
        "- [X] Get mean absolute error for the test set.\n",
        "- [X] As always, commit your notebook to your fork of the GitHub repo.\n",
        "\n",
        "\n",
        "## Stretch Goals\n",
        "- [ ] Add your own stretch goal(s) !\n",
        "- [ ] Do [feature scaling](https://scikit-learn.org/stable/modules/preprocessing.html).\n",
        "- [ ] Learn more about feature selection:\n",
        "    - [\"Permutation importance\"](https://www.kaggle.com/dansbecker/permutation-importance)\n",
        "    - [scikit-learn's User Guide for Feature Selection](https://scikit-learn.org/stable/modules/feature_selection.html)\n",
        "    - [mlxtend](http://rasbt.github.io/mlxtend/) library\n",
        "    - scikit-learn-contrib libraries: [boruta_py](https://github.com/scikit-learn-contrib/boruta_py) & [stability-selection](https://github.com/scikit-learn-contrib/stability-selection)\n",
        "    - [_Feature Engineering and Selection_](http://www.feat.engineering/) by Kuhn & Johnson.\n",
        "- [ ] Try [statsmodels](https://www.statsmodels.org/stable/index.html) if you’re interested in more inferential statistical approach to linear regression and feature selection, looking at p values and 95% confidence intervals for the coefficients.\n",
        "- [ ] Read [_An Introduction to Statistical Learning_](http://faculty.marshall.usc.edu/gareth-james/ISL/ISLR%20Seventh%20Printing.pdf), Chapters 1-3, for more math & theory, but in an accessible, readable way (without an excessive amount of formulas or academic pre-requisites).\n",
        "(That book is good regardless of whether your cultural worldview is inferential statistics or predictive machine learning)\n",
        "- [ ] Read Leo Breiman's paper, [\"Statistical Modeling: The Two Cultures\"](https://projecteuclid.org/download/pdf_1/euclid.ss/1009213726)\n",
        "- [ ] Try [scikit-learn pipelines](https://scikit-learn.org/stable/modules/compose.html):\n",
        "\n",
        "> Pipeline can be used to chain multiple estimators into one. This is useful as there is often a fixed sequence of steps in processing the data, for example feature selection, normalization and classification. Pipeline serves multiple purposes here:\n",
        "\n",
        "> - **Convenience and encapsulation.** You only have to call fit and predict once on your data to fit a whole sequence of estimators.\n",
        "> - **Joint parameter selection.** You can grid search over parameters of all estimators in the pipeline at once.\n",
        "> - **Safety.** Pipelines help avoid leaking statistics from your test data into the trained model in cross-validation, by ensuring that the same samples are used to train the transformers and predictors."
      ]
    },
    {
      "cell_type": "code",
      "metadata": {
        "id": "o9eSnDYhUGD7",
        "colab_type": "code",
        "colab": {}
      },
      "source": [
        "# If you're in Colab...\n",
        "import os, sys\n",
        "in_colab = 'google.colab' in sys.modules\n",
        "\n",
        "if in_colab:\n",
        "    # Install required python packages:\n",
        "    # category_encoders, version >= 2.0\n",
        "    # pandas-profiling, version >= 2.0\n",
        "    # plotly, version >= 4.0\n",
        "    !pip install --upgrade category_encoders pandas-profiling plotly\n",
        "    \n",
        "    # Pull files from Github repo\n",
        "    os.chdir('/content')\n",
        "    !git init .\n",
        "    !git remote add origin https://github.com/LambdaSchool/DS-Unit-2-Regression-Classification.git\n",
        "    !git pull origin master\n",
        "    \n",
        "    # Change into directory for module\n",
        "    os.chdir('module3')"
      ],
      "execution_count": 0,
      "outputs": []
    },
    {
      "cell_type": "code",
      "metadata": {
        "id": "ipBYS77PUwNR",
        "colab_type": "code",
        "colab": {}
      },
      "source": [
        "# Ignore this Numpy warning when using Plotly Express:\n",
        "# FutureWarning: Method .ptp is deprecated and will be removed in a future version. Use numpy.ptp instead.\n",
        "import warnings\n",
        "warnings.filterwarnings(action='ignore', category=FutureWarning, module='numpy')"
      ],
      "execution_count": 0,
      "outputs": []
    },
    {
      "cell_type": "code",
      "metadata": {
        "id": "QJBD4ruICm1m",
        "colab_type": "code",
        "colab": {}
      },
      "source": [
        "import pandas as pd\n",
        "import pandas_profiling\n",
        "import seaborn as sns\n",
        "import matplotlib.pyplot as plt\n",
        "\n",
        "# Read New York City property sales data\n",
        "df = pd.read_csv('../data/NYC_Citywide_Rolling_Calendar_Sales.csv')\n",
        "\n",
        "# Change column names: replace spaces with underscores\n",
        "df.columns = [col.replace(' ', '_') for col in df]\n",
        "\n",
        "# SALE_PRICE was read as strings.\n",
        "# Remove symbols, convert to integer\n",
        "df['SALE_PRICE'] = (\n",
        "    df['SALE_PRICE']\n",
        "    .str.replace('$','')\n",
        "    .str.replace('-','')\n",
        "    .str.replace(',','')\n",
        "    .astype(int)\n",
        ")"
      ],
      "execution_count": 0,
      "outputs": []
    },
    {
      "cell_type": "code",
      "metadata": {
        "id": "laDk3CrnuVqq",
        "colab_type": "code",
        "colab": {}
      },
      "source": [
        "# Convert to datetime and look at the date range\n",
        "df['SALE_DATE'] = pd.to_datetime(df['SALE_DATE'], infer_datetime_format=True)"
      ],
      "execution_count": 0,
      "outputs": []
    },
    {
      "cell_type": "code",
      "metadata": {
        "id": "xMNcdiMJwdVI",
        "colab_type": "code",
        "colab": {}
      },
      "source": [
        "# create subset of data for home sales between $100,000 and $2mil\n",
        "df = df[(df['SALE_PRICE'] >= 100000) & (df['SALE_PRICE'] <= 2000000)]"
      ],
      "execution_count": 0,
      "outputs": []
    },
    {
      "cell_type": "code",
      "metadata": {
        "id": "SFc-yiQIw-s0",
        "colab_type": "code",
        "colab": {
          "base_uri": "https://localhost:8080/",
          "height": 422
        },
        "outputId": "3ae1be33-8829-4432-d4c1-dc8ca43a28fa"
      },
      "source": [
        "df.head()"
      ],
      "execution_count": 42,
      "outputs": [
        {
          "output_type": "execute_result",
          "data": {
            "text/html": [
              "<div>\n",
              "<style scoped>\n",
              "    .dataframe tbody tr th:only-of-type {\n",
              "        vertical-align: middle;\n",
              "    }\n",
              "\n",
              "    .dataframe tbody tr th {\n",
              "        vertical-align: top;\n",
              "    }\n",
              "\n",
              "    .dataframe thead th {\n",
              "        text-align: right;\n",
              "    }\n",
              "</style>\n",
              "<table border=\"1\" class=\"dataframe\">\n",
              "  <thead>\n",
              "    <tr style=\"text-align: right;\">\n",
              "      <th></th>\n",
              "      <th>BOROUGH</th>\n",
              "      <th>NEIGHBORHOOD</th>\n",
              "      <th>BUILDING_CLASS_CATEGORY</th>\n",
              "      <th>TAX_CLASS_AT_PRESENT</th>\n",
              "      <th>BLOCK</th>\n",
              "      <th>LOT</th>\n",
              "      <th>EASE-MENT</th>\n",
              "      <th>BUILDING_CLASS_AT_PRESENT</th>\n",
              "      <th>ADDRESS</th>\n",
              "      <th>APARTMENT_NUMBER</th>\n",
              "      <th>ZIP_CODE</th>\n",
              "      <th>RESIDENTIAL_UNITS</th>\n",
              "      <th>COMMERCIAL_UNITS</th>\n",
              "      <th>TOTAL_UNITS</th>\n",
              "      <th>LAND_SQUARE_FEET</th>\n",
              "      <th>GROSS_SQUARE_FEET</th>\n",
              "      <th>YEAR_BUILT</th>\n",
              "      <th>TAX_CLASS_AT_TIME_OF_SALE</th>\n",
              "      <th>BUILDING_CLASS_AT_TIME_OF_SALE</th>\n",
              "      <th>SALE_PRICE</th>\n",
              "      <th>SALE_DATE</th>\n",
              "    </tr>\n",
              "  </thead>\n",
              "  <tbody>\n",
              "    <tr>\n",
              "      <th>44</th>\n",
              "      <td>3</td>\n",
              "      <td>OCEAN PARKWAY-NORTH</td>\n",
              "      <td>01 ONE FAMILY DWELLINGS</td>\n",
              "      <td>1</td>\n",
              "      <td>5495</td>\n",
              "      <td>801</td>\n",
              "      <td>NaN</td>\n",
              "      <td>A9</td>\n",
              "      <td>4832 BAY PARKWAY</td>\n",
              "      <td>NaN</td>\n",
              "      <td>11230.0</td>\n",
              "      <td>1.0</td>\n",
              "      <td>0.0</td>\n",
              "      <td>1.0</td>\n",
              "      <td>6,800</td>\n",
              "      <td>1325.0</td>\n",
              "      <td>1930.0</td>\n",
              "      <td>1</td>\n",
              "      <td>A9</td>\n",
              "      <td>550000</td>\n",
              "      <td>2019-01-01</td>\n",
              "    </tr>\n",
              "    <tr>\n",
              "      <th>61</th>\n",
              "      <td>4</td>\n",
              "      <td>QUEENS VILLAGE</td>\n",
              "      <td>01 ONE FAMILY DWELLINGS</td>\n",
              "      <td>1</td>\n",
              "      <td>7918</td>\n",
              "      <td>72</td>\n",
              "      <td>NaN</td>\n",
              "      <td>A1</td>\n",
              "      <td>80-23 232ND STREET</td>\n",
              "      <td>NaN</td>\n",
              "      <td>11427.0</td>\n",
              "      <td>1.0</td>\n",
              "      <td>0.0</td>\n",
              "      <td>1.0</td>\n",
              "      <td>4,000</td>\n",
              "      <td>2001.0</td>\n",
              "      <td>1940.0</td>\n",
              "      <td>1</td>\n",
              "      <td>A1</td>\n",
              "      <td>200000</td>\n",
              "      <td>2019-01-01</td>\n",
              "    </tr>\n",
              "    <tr>\n",
              "      <th>65</th>\n",
              "      <td>1</td>\n",
              "      <td>CHELSEA</td>\n",
              "      <td>13 CONDOS - ELEVATOR APARTMENTS</td>\n",
              "      <td>2</td>\n",
              "      <td>691</td>\n",
              "      <td>1130</td>\n",
              "      <td>NaN</td>\n",
              "      <td>R4</td>\n",
              "      <td>505 WEST 19TH STREET, 7D</td>\n",
              "      <td>7D</td>\n",
              "      <td>10011.0</td>\n",
              "      <td>1.0</td>\n",
              "      <td>0.0</td>\n",
              "      <td>1.0</td>\n",
              "      <td>18,975</td>\n",
              "      <td>1077.0</td>\n",
              "      <td>2013.0</td>\n",
              "      <td>2</td>\n",
              "      <td>R4</td>\n",
              "      <td>2000000</td>\n",
              "      <td>2019-01-02</td>\n",
              "    </tr>\n",
              "    <tr>\n",
              "      <th>66</th>\n",
              "      <td>1</td>\n",
              "      <td>MIDTOWN EAST</td>\n",
              "      <td>10 COOPS - ELEVATOR APARTMENTS</td>\n",
              "      <td>2</td>\n",
              "      <td>1347</td>\n",
              "      <td>18</td>\n",
              "      <td>NaN</td>\n",
              "      <td>D4</td>\n",
              "      <td>345 EAST 54TH ST, 3B</td>\n",
              "      <td>NaN</td>\n",
              "      <td>10022.0</td>\n",
              "      <td>0.0</td>\n",
              "      <td>0.0</td>\n",
              "      <td>0.0</td>\n",
              "      <td>0</td>\n",
              "      <td>0.0</td>\n",
              "      <td>1960.0</td>\n",
              "      <td>2</td>\n",
              "      <td>D4</td>\n",
              "      <td>330000</td>\n",
              "      <td>2019-01-02</td>\n",
              "    </tr>\n",
              "    <tr>\n",
              "      <th>67</th>\n",
              "      <td>1</td>\n",
              "      <td>UPPER EAST SIDE (79-96)</td>\n",
              "      <td>10 COOPS - ELEVATOR APARTMENTS</td>\n",
              "      <td>2</td>\n",
              "      <td>1491</td>\n",
              "      <td>62</td>\n",
              "      <td>NaN</td>\n",
              "      <td>D4</td>\n",
              "      <td>16 EAST 80TH STREET, 2A</td>\n",
              "      <td>NaN</td>\n",
              "      <td>10075.0</td>\n",
              "      <td>0.0</td>\n",
              "      <td>0.0</td>\n",
              "      <td>0.0</td>\n",
              "      <td>0</td>\n",
              "      <td>0.0</td>\n",
              "      <td>1925.0</td>\n",
              "      <td>2</td>\n",
              "      <td>D4</td>\n",
              "      <td>600000</td>\n",
              "      <td>2019-01-02</td>\n",
              "    </tr>\n",
              "  </tbody>\n",
              "</table>\n",
              "</div>"
            ],
            "text/plain": [
              "    BOROUGH             NEIGHBORHOOD  ... SALE_PRICE  SALE_DATE\n",
              "44        3      OCEAN PARKWAY-NORTH  ...     550000 2019-01-01\n",
              "61        4           QUEENS VILLAGE  ...     200000 2019-01-01\n",
              "65        1                  CHELSEA  ...    2000000 2019-01-02\n",
              "66        1             MIDTOWN EAST  ...     330000 2019-01-02\n",
              "67        1  UPPER EAST SIDE (79-96)  ...     600000 2019-01-02\n",
              "\n",
              "[5 rows x 21 columns]"
            ]
          },
          "metadata": {
            "tags": []
          },
          "execution_count": 42
        }
      ]
    },
    {
      "cell_type": "code",
      "metadata": {
        "id": "l--7NqSyux3u",
        "colab_type": "code",
        "colab": {
          "base_uri": "https://localhost:8080/",
          "height": 33
        },
        "outputId": "134c6f03-220c-49a6-889b-527dcfecabe1"
      },
      "source": [
        "# create train/test datasets by assigning cutoff date of April 1, 2019 to 'SALE_DATE' column\n",
        "cutoff = pd.to_datetime('2019-04-01')\n",
        "train = df[df.SALE_DATE < cutoff]\n",
        "test  = df[df.SALE_DATE >= cutoff]\n",
        "train.shape, test.shape"
      ],
      "execution_count": 46,
      "outputs": [
        {
          "output_type": "execute_result",
          "data": {
            "text/plain": [
              "((10488, 21), (2983, 21))"
            ]
          },
          "metadata": {
            "tags": []
          },
          "execution_count": 46
        }
      ]
    },
    {
      "cell_type": "code",
      "metadata": {
        "id": "k7Klqja82tm4",
        "colab_type": "code",
        "colab": {
          "base_uri": "https://localhost:8080/",
          "height": 700
        },
        "outputId": "bf6eff40-a231-41fe-aca9-f84ed1f350a6"
      },
      "source": [
        "df['BUILDING_CLASS_CATEGORY'].value_counts().sort_index()"
      ],
      "execution_count": 58,
      "outputs": [
        {
          "output_type": "execute_result",
          "data": {
            "text/plain": [
              "01 ONE FAMILY DWELLINGS                       3164\n",
              "02 TWO FAMILY DWELLINGS                       2440\n",
              "03 THREE FAMILY DWELLINGS                      658\n",
              "04 TAX CLASS 1 CONDOS                          300\n",
              "05 TAX CLASS 1 VACANT LAND                     134\n",
              "06 TAX CLASS 1 - OTHER                          26\n",
              "07 RENTALS - WALKUP APARTMENTS                 238\n",
              "08 RENTALS - ELEVATOR APARTMENTS                 8\n",
              "09 COOPS - WALKUP APARTMENTS                   587\n",
              "10 COOPS - ELEVATOR APARTMENTS                2781\n",
              "11A CONDO-RENTALS                               11\n",
              "12 CONDOS - WALKUP APARTMENTS                  193\n",
              "13 CONDOS - ELEVATOR APARTMENTS               1758\n",
              "14 RENTALS - 4-10 UNIT                          60\n",
              "15 CONDOS - 2-10 UNIT RESIDENTIAL              295\n",
              "16 CONDOS - 2-10 UNIT WITH COMMERCIAL UNIT      14\n",
              "17 CONDO COOPS                                 249\n",
              "21 OFFICE BUILDINGS                             30\n",
              "22 STORE BUILDINGS                              72\n",
              "23 LOFT BUILDINGS                                1\n",
              "26 OTHER HOTELS                                  1\n",
              "27 FACTORIES                                    15\n",
              "28 COMMERCIAL CONDOS                             3\n",
              "29 COMMERCIAL GARAGES                           46\n",
              "30 WAREHOUSES                                   14\n",
              "31 COMMERCIAL VACANT LAND                       23\n",
              "32 HOSPITAL AND HEALTH FACILITIES                4\n",
              "33 EDUCATIONAL FACILITIES                        7\n",
              "34 THEATRES                                      2\n",
              "35 INDOOR PUBLIC AND CULTURAL FACILITIES         1\n",
              "36 OUTDOOR RECREATIONAL FACILITIES               2\n",
              "37 RELIGIOUS FACILITIES                         12\n",
              "38 ASYLUMS AND HOMES                             2\n",
              "39 TRANSPORTATION FACILITIES                     1\n",
              "41 TAX CLASS 4 - OTHER                          15\n",
              "42 CONDO CULTURAL/MEDICAL/EDUCATIONAL/ETC        1\n",
              "43 CONDO OFFICE BUILDINGS                       40\n",
              "44 CONDO PARKING                               206\n",
              "45 CONDO HOTELS                                 17\n",
              "46 CONDO STORE BUILDINGS                        10\n",
              "47 CONDO NON-BUSINESS STORAGE                   30\n",
              "Name: BUILDING_CLASS_CATEGORY, dtype: int64"
            ]
          },
          "metadata": {
            "tags": []
          },
          "execution_count": 58
        }
      ]
    },
    {
      "cell_type": "code",
      "metadata": {
        "id": "rekJ8N-8y7qC",
        "colab_type": "code",
        "colab": {
          "base_uri": "https://localhost:8080/",
          "height": 1000
        },
        "outputId": "7c306973-decd-49a1-b34b-66f0f3e21ab2"
      },
      "source": [
        "# exploratory visualization\n",
        "for col in sorted(train.columns):\n",
        "    if train[col].nunique() < 50:\n",
        "        sns.catplot(x=col, y='SALE_PRICE', data=train, kind='bar')\n",
        "        plt.show()"
      ],
      "execution_count": 51,
      "outputs": [
        {
          "output_type": "display_data",
          "data": {
            "image/png": "[encoded data removed]",
            "text/plain": [
              "<Figure size 360x360 with 1 Axes>"
            ]
          },
          "metadata": {
            "tags": []
          }
        },
        {
          "output_type": "display_data",
          "data": {
            "image/png": "[encoded data removed]",
            "text/plain": [
              "<Figure size 360x360 with 1 Axes>"
            ]
          },
          "metadata": {
            "tags": []
          }
        },
        {
          "output_type": "display_data",
          "data": {
            "image/png": "[encoded data removed]",
            "text/plain": [
              "<Figure size 360x360 with 1 Axes>"
            ]
          },
          "metadata": {
            "tags": []
          }
        },
        {
          "output_type": "error",
          "ename": "ValueError",
          "evalue": "ignored",
          "traceback": [
            "\u001b[0;31m---------------------------------------------------------------------------\u001b[0m",
            "\u001b[0;31mValueError\u001b[0m                                Traceback (most recent call last)",
            "\u001b[0;32m<ipython-input-51-a9943d9b4279>\u001b[0m in \u001b[0;36m<module>\u001b[0;34m()\u001b[0m\n\u001b[1;32m      1\u001b[0m \u001b[0;32mfor\u001b[0m \u001b[0mcol\u001b[0m \u001b[0;32min\u001b[0m \u001b[0msorted\u001b[0m\u001b[0;34m(\u001b[0m\u001b[0mtrain\u001b[0m\u001b[0;34m.\u001b[0m\u001b[0mcolumns\u001b[0m\u001b[0;34m)\u001b[0m\u001b[0;34m:\u001b[0m\u001b[0;34m\u001b[0m\u001b[0;34m\u001b[0m\u001b[0m\n\u001b[1;32m      2\u001b[0m     \u001b[0;32mif\u001b[0m \u001b[0mtrain\u001b[0m\u001b[0;34m[\u001b[0m\u001b[0mcol\u001b[0m\u001b[0;34m]\u001b[0m\u001b[0;34m.\u001b[0m\u001b[0mnunique\u001b[0m\u001b[0;34m(\u001b[0m\u001b[0;34m)\u001b[0m \u001b[0;34m<\u001b[0m \u001b[0;36m50\u001b[0m\u001b[0;34m:\u001b[0m\u001b[0;34m\u001b[0m\u001b[0;34m\u001b[0m\u001b[0m\n\u001b[0;32m----> 3\u001b[0;31m         \u001b[0msns\u001b[0m\u001b[0;34m.\u001b[0m\u001b[0mcatplot\u001b[0m\u001b[0;34m(\u001b[0m\u001b[0mx\u001b[0m\u001b[0;34m=\u001b[0m\u001b[0mcol\u001b[0m\u001b[0;34m,\u001b[0m \u001b[0my\u001b[0m\u001b[0;34m=\u001b[0m\u001b[0;34m'SALE_PRICE'\u001b[0m\u001b[0;34m,\u001b[0m \u001b[0mdata\u001b[0m\u001b[0;34m=\u001b[0m\u001b[0mtrain\u001b[0m\u001b[0;34m,\u001b[0m \u001b[0mkind\u001b[0m\u001b[0;34m=\u001b[0m\u001b[0;34m'bar'\u001b[0m\u001b[0;34m)\u001b[0m\u001b[0;34m\u001b[0m\u001b[0;34m\u001b[0m\u001b[0m\n\u001b[0m\u001b[1;32m      4\u001b[0m         \u001b[0mplt\u001b[0m\u001b[0;34m.\u001b[0m\u001b[0mshow\u001b[0m\u001b[0;34m(\u001b[0m\u001b[0;34m)\u001b[0m\u001b[0;34m\u001b[0m\u001b[0;34m\u001b[0m\u001b[0m\n",
            "\u001b[0;32m/usr/local/lib/python3.6/dist-packages/seaborn/categorical.py\u001b[0m in \u001b[0;36mcatplot\u001b[0;34m(x, y, hue, data, row, col, col_wrap, estimator, ci, n_boot, units, order, hue_order, row_order, col_order, kind, height, aspect, orient, color, palette, legend, legend_out, sharex, sharey, margin_titles, facet_kws, **kwargs)\u001b[0m\n\u001b[1;32m   3722\u001b[0m     \u001b[0;31m# so we need to define ``palette`` to get default behavior for the\u001b[0m\u001b[0;34m\u001b[0m\u001b[0;34m\u001b[0m\u001b[0;34m\u001b[0m\u001b[0m\n\u001b[1;32m   3723\u001b[0m     \u001b[0;31m# categorical functions\u001b[0m\u001b[0;34m\u001b[0m\u001b[0;34m\u001b[0m\u001b[0;34m\u001b[0m\u001b[0m\n\u001b[0;32m-> 3724\u001b[0;31m     \u001b[0mp\u001b[0m\u001b[0;34m.\u001b[0m\u001b[0mestablish_colors\u001b[0m\u001b[0;34m(\u001b[0m\u001b[0mcolor\u001b[0m\u001b[0;34m,\u001b[0m \u001b[0mpalette\u001b[0m\u001b[0;34m,\u001b[0m \u001b[0;36m1\u001b[0m\u001b[0;34m)\u001b[0m\u001b[0;34m\u001b[0m\u001b[0;34m\u001b[0m\u001b[0m\n\u001b[0m\u001b[1;32m   3725\u001b[0m     \u001b[0;32mif\u001b[0m \u001b[0mkind\u001b[0m \u001b[0;34m!=\u001b[0m \u001b[0;34m\"point\"\u001b[0m \u001b[0;32mor\u001b[0m \u001b[0mhue\u001b[0m \u001b[0;32mis\u001b[0m \u001b[0;32mnot\u001b[0m \u001b[0;32mNone\u001b[0m\u001b[0;34m:\u001b[0m\u001b[0;34m\u001b[0m\u001b[0;34m\u001b[0m\u001b[0m\n\u001b[1;32m   3726\u001b[0m         \u001b[0mpalette\u001b[0m \u001b[0;34m=\u001b[0m \u001b[0mp\u001b[0m\u001b[0;34m.\u001b[0m\u001b[0mcolors\u001b[0m\u001b[0;34m\u001b[0m\u001b[0;34m\u001b[0m\u001b[0m\n",
            "\u001b[0;32m/usr/local/lib/python3.6/dist-packages/seaborn/categorical.py\u001b[0m in \u001b[0;36mestablish_colors\u001b[0;34m(self, color, palette, saturation)\u001b[0m\n\u001b[1;32m    313\u001b[0m         \u001b[0;31m# Determine the gray color to use for the lines framing the plot\u001b[0m\u001b[0;34m\u001b[0m\u001b[0;34m\u001b[0m\u001b[0;34m\u001b[0m\u001b[0m\n\u001b[1;32m    314\u001b[0m         \u001b[0mlight_vals\u001b[0m \u001b[0;34m=\u001b[0m \u001b[0;34m[\u001b[0m\u001b[0mcolorsys\u001b[0m\u001b[0;34m.\u001b[0m\u001b[0mrgb_to_hls\u001b[0m\u001b[0;34m(\u001b[0m\u001b[0;34m*\u001b[0m\u001b[0mc\u001b[0m\u001b[0;34m)\u001b[0m\u001b[0;34m[\u001b[0m\u001b[0;36m1\u001b[0m\u001b[0;34m]\u001b[0m \u001b[0;32mfor\u001b[0m \u001b[0mc\u001b[0m \u001b[0;32min\u001b[0m \u001b[0mrgb_colors\u001b[0m\u001b[0;34m]\u001b[0m\u001b[0;34m\u001b[0m\u001b[0;34m\u001b[0m\u001b[0m\n\u001b[0;32m--> 315\u001b[0;31m         \u001b[0mlum\u001b[0m \u001b[0;34m=\u001b[0m \u001b[0mmin\u001b[0m\u001b[0;34m(\u001b[0m\u001b[0mlight_vals\u001b[0m\u001b[0;34m)\u001b[0m \u001b[0;34m*\u001b[0m \u001b[0;36m.6\u001b[0m\u001b[0;34m\u001b[0m\u001b[0;34m\u001b[0m\u001b[0m\n\u001b[0m\u001b[1;32m    316\u001b[0m         \u001b[0mgray\u001b[0m \u001b[0;34m=\u001b[0m \u001b[0mmpl\u001b[0m\u001b[0;34m.\u001b[0m\u001b[0mcolors\u001b[0m\u001b[0;34m.\u001b[0m\u001b[0mrgb2hex\u001b[0m\u001b[0;34m(\u001b[0m\u001b[0;34m(\u001b[0m\u001b[0mlum\u001b[0m\u001b[0;34m,\u001b[0m \u001b[0mlum\u001b[0m\u001b[0;34m,\u001b[0m \u001b[0mlum\u001b[0m\u001b[0;34m)\u001b[0m\u001b[0;34m)\u001b[0m\u001b[0;34m\u001b[0m\u001b[0;34m\u001b[0m\u001b[0m\n\u001b[1;32m    317\u001b[0m \u001b[0;34m\u001b[0m\u001b[0m\n",
            "\u001b[0;31mValueError\u001b[0m: min() arg is an empty sequence"
          ]
        }
      ]
    },
    {
      "cell_type": "code",
      "metadata": {
        "id": "BxSPaoqZzwdu",
        "colab_type": "code",
        "colab": {
          "base_uri": "https://localhost:8080/",
          "height": 243
        },
        "outputId": "15e50f59-f67d-47a6-af6e-89272dafd5df"
      },
      "source": [
        "# one-hot encoding of training set - BUILDING_CLASS_CATEGORY column\n",
        "import category_encoders as ce\n",
        "encoder = ce.OneHotEncoder(use_cat_names=True)\n",
        "encoded = encoder.fit_transform(train['BUILDING_CLASS_CATEGORY'])\n",
        "encoded.head()\n",
        "\n"
      ],
      "execution_count": 59,
      "outputs": [
        {
          "output_type": "execute_result",
          "data": {
            "text/html": [
              "<div>\n",
              "<style scoped>\n",
              "    .dataframe tbody tr th:only-of-type {\n",
              "        vertical-align: middle;\n",
              "    }\n",
              "\n",
              "    .dataframe tbody tr th {\n",
              "        vertical-align: top;\n",
              "    }\n",
              "\n",
              "    .dataframe thead th {\n",
              "        text-align: right;\n",
              "    }\n",
              "</style>\n",
              "<table border=\"1\" class=\"dataframe\">\n",
              "  <thead>\n",
              "    <tr style=\"text-align: right;\">\n",
              "      <th></th>\n",
              "      <th>BUILDING_CLASS_CATEGORY_01 ONE FAMILY DWELLINGS</th>\n",
              "      <th>BUILDING_CLASS_CATEGORY_13 CONDOS - ELEVATOR APARTMENTS</th>\n",
              "      <th>BUILDING_CLASS_CATEGORY_10 COOPS - ELEVATOR APARTMENTS</th>\n",
              "      <th>BUILDING_CLASS_CATEGORY_02 TWO FAMILY DWELLINGS</th>\n",
              "      <th>BUILDING_CLASS_CATEGORY_03 THREE FAMILY DWELLINGS</th>\n",
              "      <th>BUILDING_CLASS_CATEGORY_41 TAX CLASS 4 - OTHER</th>\n",
              "      <th>BUILDING_CLASS_CATEGORY_08 RENTALS - ELEVATOR APARTMENTS</th>\n",
              "      <th>BUILDING_CLASS_CATEGORY_44 CONDO PARKING</th>\n",
              "      <th>BUILDING_CLASS_CATEGORY_07 RENTALS - WALKUP APARTMENTS</th>\n",
              "      <th>BUILDING_CLASS_CATEGORY_47 CONDO NON-BUSINESS STORAGE</th>\n",
              "      <th>BUILDING_CLASS_CATEGORY_05 TAX CLASS 1 VACANT LAND</th>\n",
              "      <th>BUILDING_CLASS_CATEGORY_43 CONDO OFFICE BUILDINGS</th>\n",
              "      <th>BUILDING_CLASS_CATEGORY_09 COOPS - WALKUP APARTMENTS</th>\n",
              "      <th>BUILDING_CLASS_CATEGORY_04 TAX CLASS 1 CONDOS</th>\n",
              "      <th>BUILDING_CLASS_CATEGORY_17 CONDO COOPS</th>\n",
              "      <th>BUILDING_CLASS_CATEGORY_29 COMMERCIAL GARAGES</th>\n",
              "      <th>BUILDING_CLASS_CATEGORY_15 CONDOS - 2-10 UNIT RESIDENTIAL</th>\n",
              "      <th>BUILDING_CLASS_CATEGORY_12 CONDOS - WALKUP APARTMENTS</th>\n",
              "      <th>BUILDING_CLASS_CATEGORY_27 FACTORIES</th>\n",
              "      <th>BUILDING_CLASS_CATEGORY_22 STORE BUILDINGS</th>\n",
              "      <th>BUILDING_CLASS_CATEGORY_31 COMMERCIAL VACANT LAND</th>\n",
              "      <th>BUILDING_CLASS_CATEGORY_45 CONDO HOTELS</th>\n",
              "      <th>BUILDING_CLASS_CATEGORY_32 HOSPITAL AND HEALTH FACILITIES</th>\n",
              "      <th>BUILDING_CLASS_CATEGORY_14 RENTALS - 4-10 UNIT</th>\n",
              "      <th>BUILDING_CLASS_CATEGORY_06 TAX CLASS 1 - OTHER</th>\n",
              "      <th>BUILDING_CLASS_CATEGORY_46 CONDO STORE BUILDINGS</th>\n",
              "      <th>BUILDING_CLASS_CATEGORY_21 OFFICE BUILDINGS</th>\n",
              "      <th>BUILDING_CLASS_CATEGORY_37 RELIGIOUS FACILITIES</th>\n",
              "      <th>BUILDING_CLASS_CATEGORY_33 EDUCATIONAL FACILITIES</th>\n",
              "      <th>BUILDING_CLASS_CATEGORY_30 WAREHOUSES</th>\n",
              "      <th>BUILDING_CLASS_CATEGORY_11A CONDO-RENTALS</th>\n",
              "      <th>BUILDING_CLASS_CATEGORY_36 OUTDOOR RECREATIONAL FACILITIES</th>\n",
              "      <th>BUILDING_CLASS_CATEGORY_34 THEATRES</th>\n",
              "      <th>BUILDING_CLASS_CATEGORY_16 CONDOS - 2-10 UNIT WITH COMMERCIAL UNIT</th>\n",
              "      <th>BUILDING_CLASS_CATEGORY_26 OTHER HOTELS</th>\n",
              "      <th>BUILDING_CLASS_CATEGORY_28 COMMERCIAL CONDOS</th>\n",
              "      <th>BUILDING_CLASS_CATEGORY_35 INDOOR PUBLIC AND CULTURAL FACILITIES</th>\n",
              "      <th>BUILDING_CLASS_CATEGORY_39 TRANSPORTATION FACILITIES</th>\n",
              "      <th>BUILDING_CLASS_CATEGORY_42 CONDO CULTURAL/MEDICAL/EDUCATIONAL/ETC</th>\n",
              "      <th>BUILDING_CLASS_CATEGORY_23 LOFT BUILDINGS</th>\n",
              "    </tr>\n",
              "  </thead>\n",
              "  <tbody>\n",
              "    <tr>\n",
              "      <th>44</th>\n",
              "      <td>1</td>\n",
              "      <td>0</td>\n",
              "      <td>0</td>\n",
              "      <td>0</td>\n",
              "      <td>0</td>\n",
              "      <td>0</td>\n",
              "      <td>0</td>\n",
              "      <td>0</td>\n",
              "      <td>0</td>\n",
              "      <td>0</td>\n",
              "      <td>0</td>\n",
              "      <td>0</td>\n",
              "      <td>0</td>\n",
              "      <td>0</td>\n",
              "      <td>0</td>\n",
              "      <td>0</td>\n",
              "      <td>0</td>\n",
              "      <td>0</td>\n",
              "      <td>0</td>\n",
              "      <td>0</td>\n",
              "      <td>0</td>\n",
              "      <td>0</td>\n",
              "      <td>0</td>\n",
              "      <td>0</td>\n",
              "      <td>0</td>\n",
              "      <td>0</td>\n",
              "      <td>0</td>\n",
              "      <td>0</td>\n",
              "      <td>0</td>\n",
              "      <td>0</td>\n",
              "      <td>0</td>\n",
              "      <td>0</td>\n",
              "      <td>0</td>\n",
              "      <td>0</td>\n",
              "      <td>0</td>\n",
              "      <td>0</td>\n",
              "      <td>0</td>\n",
              "      <td>0</td>\n",
              "      <td>0</td>\n",
              "      <td>0</td>\n",
              "    </tr>\n",
              "    <tr>\n",
              "      <th>61</th>\n",
              "      <td>1</td>\n",
              "      <td>0</td>\n",
              "      <td>0</td>\n",
              "      <td>0</td>\n",
              "      <td>0</td>\n",
              "      <td>0</td>\n",
              "      <td>0</td>\n",
              "      <td>0</td>\n",
              "      <td>0</td>\n",
              "      <td>0</td>\n",
              "      <td>0</td>\n",
              "      <td>0</td>\n",
              "      <td>0</td>\n",
              "      <td>0</td>\n",
              "      <td>0</td>\n",
              "      <td>0</td>\n",
              "      <td>0</td>\n",
              "      <td>0</td>\n",
              "      <td>0</td>\n",
              "      <td>0</td>\n",
              "      <td>0</td>\n",
              "      <td>0</td>\n",
              "      <td>0</td>\n",
              "      <td>0</td>\n",
              "      <td>0</td>\n",
              "      <td>0</td>\n",
              "      <td>0</td>\n",
              "      <td>0</td>\n",
              "      <td>0</td>\n",
              "      <td>0</td>\n",
              "      <td>0</td>\n",
              "      <td>0</td>\n",
              "      <td>0</td>\n",
              "      <td>0</td>\n",
              "      <td>0</td>\n",
              "      <td>0</td>\n",
              "      <td>0</td>\n",
              "      <td>0</td>\n",
              "      <td>0</td>\n",
              "      <td>0</td>\n",
              "    </tr>\n",
              "    <tr>\n",
              "      <th>65</th>\n",
              "      <td>0</td>\n",
              "      <td>1</td>\n",
              "      <td>0</td>\n",
              "      <td>0</td>\n",
              "      <td>0</td>\n",
              "      <td>0</td>\n",
              "      <td>0</td>\n",
              "      <td>0</td>\n",
              "      <td>0</td>\n",
              "      <td>0</td>\n",
              "      <td>0</td>\n",
              "      <td>0</td>\n",
              "      <td>0</td>\n",
              "      <td>0</td>\n",
              "      <td>0</td>\n",
              "      <td>0</td>\n",
              "      <td>0</td>\n",
              "      <td>0</td>\n",
              "      <td>0</td>\n",
              "      <td>0</td>\n",
              "      <td>0</td>\n",
              "      <td>0</td>\n",
              "      <td>0</td>\n",
              "      <td>0</td>\n",
              "      <td>0</td>\n",
              "      <td>0</td>\n",
              "      <td>0</td>\n",
              "      <td>0</td>\n",
              "      <td>0</td>\n",
              "      <td>0</td>\n",
              "      <td>0</td>\n",
              "      <td>0</td>\n",
              "      <td>0</td>\n",
              "      <td>0</td>\n",
              "      <td>0</td>\n",
              "      <td>0</td>\n",
              "      <td>0</td>\n",
              "      <td>0</td>\n",
              "      <td>0</td>\n",
              "      <td>0</td>\n",
              "    </tr>\n",
              "    <tr>\n",
              "      <th>66</th>\n",
              "      <td>0</td>\n",
              "      <td>0</td>\n",
              "      <td>1</td>\n",
              "      <td>0</td>\n",
              "      <td>0</td>\n",
              "      <td>0</td>\n",
              "      <td>0</td>\n",
              "      <td>0</td>\n",
              "      <td>0</td>\n",
              "      <td>0</td>\n",
              "      <td>0</td>\n",
              "      <td>0</td>\n",
              "      <td>0</td>\n",
              "      <td>0</td>\n",
              "      <td>0</td>\n",
              "      <td>0</td>\n",
              "      <td>0</td>\n",
              "      <td>0</td>\n",
              "      <td>0</td>\n",
              "      <td>0</td>\n",
              "      <td>0</td>\n",
              "      <td>0</td>\n",
              "      <td>0</td>\n",
              "      <td>0</td>\n",
              "      <td>0</td>\n",
              "      <td>0</td>\n",
              "      <td>0</td>\n",
              "      <td>0</td>\n",
              "      <td>0</td>\n",
              "      <td>0</td>\n",
              "      <td>0</td>\n",
              "      <td>0</td>\n",
              "      <td>0</td>\n",
              "      <td>0</td>\n",
              "      <td>0</td>\n",
              "      <td>0</td>\n",
              "      <td>0</td>\n",
              "      <td>0</td>\n",
              "      <td>0</td>\n",
              "      <td>0</td>\n",
              "    </tr>\n",
              "    <tr>\n",
              "      <th>67</th>\n",
              "      <td>0</td>\n",
              "      <td>0</td>\n",
              "      <td>1</td>\n",
              "      <td>0</td>\n",
              "      <td>0</td>\n",
              "      <td>0</td>\n",
              "      <td>0</td>\n",
              "      <td>0</td>\n",
              "      <td>0</td>\n",
              "      <td>0</td>\n",
              "      <td>0</td>\n",
              "      <td>0</td>\n",
              "      <td>0</td>\n",
              "      <td>0</td>\n",
              "      <td>0</td>\n",
              "      <td>0</td>\n",
              "      <td>0</td>\n",
              "      <td>0</td>\n",
              "      <td>0</td>\n",
              "      <td>0</td>\n",
              "      <td>0</td>\n",
              "      <td>0</td>\n",
              "      <td>0</td>\n",
              "      <td>0</td>\n",
              "      <td>0</td>\n",
              "      <td>0</td>\n",
              "      <td>0</td>\n",
              "      <td>0</td>\n",
              "      <td>0</td>\n",
              "      <td>0</td>\n",
              "      <td>0</td>\n",
              "      <td>0</td>\n",
              "      <td>0</td>\n",
              "      <td>0</td>\n",
              "      <td>0</td>\n",
              "      <td>0</td>\n",
              "      <td>0</td>\n",
              "      <td>0</td>\n",
              "      <td>0</td>\n",
              "      <td>0</td>\n",
              "    </tr>\n",
              "  </tbody>\n",
              "</table>\n",
              "</div>"
            ],
            "text/plain": [
              "    BUILDING_CLASS_CATEGORY_01 ONE FAMILY DWELLINGS  ...  BUILDING_CLASS_CATEGORY_23 LOFT BUILDINGS\n",
              "44                                                1  ...                                          0\n",
              "61                                                1  ...                                          0\n",
              "65                                                0  ...                                          0\n",
              "66                                                0  ...                                          0\n",
              "67                                                0  ...                                          0\n",
              "\n",
              "[5 rows x 40 columns]"
            ]
          },
          "metadata": {
            "tags": []
          },
          "execution_count": 59
        }
      ]
    },
    {
      "cell_type": "code",
      "metadata": {
        "id": "WoVUWX28_Nbz",
        "colab_type": "code",
        "colab": {
          "base_uri": "https://localhost:8080/",
          "height": 33
        },
        "outputId": "e77978bc-cb1d-4147-8a09-a3c80c7067cb"
      },
      "source": [
        "train_subset = train.select_dtypes('number').dropna(axis='columns')\n",
        "test_subset  = test.select_dtypes('number').dropna(axis='columns')\n",
        "assert all(train_subset.columns == test_subset.columns)\n",
        "\n",
        "target = 'SALE_PRICE'\n",
        "features = train_subset.columns.drop(target)\n",
        "X_train = train_subset[features]\n",
        "y_train = train_subset[target]\n",
        "X_test  = test_subset[features]\n",
        "y_test  = test_subset[target]\n",
        "X_train.shape, y_train.shape, X_test.shape, y_test.shape"
      ],
      "execution_count": 63,
      "outputs": [
        {
          "output_type": "execute_result",
          "data": {
            "text/plain": [
              "((10488, 9), (10488,), (2983, 9), (2983,))"
            ]
          },
          "metadata": {
            "tags": []
          },
          "execution_count": 63
        }
      ]
    },
    {
      "cell_type": "code",
      "metadata": {
        "id": "oWttG3Mx_3HY",
        "colab_type": "code",
        "colab": {
          "base_uri": "https://localhost:8080/",
          "height": 33
        },
        "outputId": "9a5f7ac3-a10f-489a-8307-66667978ccb9"
      },
      "source": [
        "from sklearn.feature_selection import f_regression, SelectKBest\n",
        "\n",
        "selector = SelectKBest(score_func=f_regression, k=5)\n",
        "X_train_selected = selector.fit_transform(X_train, y_train)\n",
        "X_test_selected = selector.transform(X_test)\n",
        "\n",
        "X_train_selected.shape, X_test_selected.shape"
      ],
      "execution_count": 65,
      "outputs": [
        {
          "output_type": "execute_result",
          "data": {
            "text/plain": [
              "((10488, 5), (2983, 5))"
            ]
          },
          "metadata": {
            "tags": []
          },
          "execution_count": 65
        }
      ]
    },
    {
      "cell_type": "code",
      "metadata": {
        "id": "qIt8_s86AJO0",
        "colab_type": "code",
        "colab": {
          "base_uri": "https://localhost:8080/",
          "height": 212
        },
        "outputId": "9c9944f5-565d-4e9c-dec3-e05e3e3b2cc2"
      },
      "source": [
        "all_names = X_train.columns\n",
        "selected_mask = selector.get_support()\n",
        "selected_names = all_names[selected_mask]\n",
        "unselected_names = all_names[~selected_mask]\n",
        "\n",
        "print('Features selected:')\n",
        "for name in selected_names:\n",
        "    print(name)\n",
        "\n",
        "print('\\nFeatures not selected:')\n",
        "for name in unselected_names:\n",
        "    print(name)"
      ],
      "execution_count": 66,
      "outputs": [
        {
          "output_type": "stream",
          "text": [
            "Features selected:\n",
            "BOROUGH\n",
            "BLOCK\n",
            "LOT\n",
            "RESIDENTIAL_UNITS\n",
            "GROSS_SQUARE_FEET\n",
            "\n",
            "Features not selected:\n",
            "ZIP_CODE\n",
            "COMMERCIAL_UNITS\n",
            "TOTAL_UNITS\n",
            "TAX_CLASS_AT_TIME_OF_SALE\n"
          ],
          "name": "stdout"
        }
      ]
    },
    {
      "cell_type": "code",
      "metadata": {
        "id": "LMHESi93Ax_W",
        "colab_type": "code",
        "colab": {
          "base_uri": "https://localhost:8080/",
          "height": 66
        },
        "outputId": "a69e1f26-5588-4fbb-8d54-94047efb381a"
      },
      "source": [
        "# generate Linear Regression Model, intercept, & co-efficients\n",
        "from sklearn.linear_model import LinearRegression\n",
        "from sklearn.metrics import mean_absolute_error\n",
        "\n",
        "model = LinearRegression()\n",
        "model.fit(X_train_selected, y_train)\n",
        "y_pred = model.predict(X_test_selected)\n",
        "print(model.intercept_)\n",
        "print(model.coef_)"
      ],
      "execution_count": 70,
      "outputs": [
        {
          "output_type": "stream",
          "text": [
            "943927.8802460502\n",
            "[-5.04444461e+04 -2.07469846e+01  1.25690767e+01  1.12818433e+04\n",
            "  8.63921570e-01]\n"
          ],
          "name": "stdout"
        }
      ]
    },
    {
      "cell_type": "code",
      "metadata": {
        "id": "GcMKBMYPCqLH",
        "colab_type": "code",
        "colab": {
          "base_uri": "https://localhost:8080/",
          "height": 456
        },
        "outputId": "0a8a52b5-720c-4c3e-cd30-9ca733576c26"
      },
      "source": [
        "from sklearn.preprocessing import StandardScaler\n",
        "\n",
        "target = 'SALE_PRICE'\n",
        "#high_cardinality = ['display_address', 'street_address', 'description', 'created']\n",
        "#features = train.columns.drop([target] + high_cardinality)\n",
        "\n",
        "X_train = train[features]\n",
        "y_train = train[target]\n",
        "\n",
        "X_test = test[features]\n",
        "y_test = test[target]\n",
        "\n",
        "encoder = ce.OneHotEncoder(use_cat_names=True)\n",
        "X_train_encoded = encoder.fit_transform(X_train)\n",
        "X_test_encoded = encoder.transform(X_test)\n",
        "\n",
        "scaler = StandardScaler()\n",
        "X_train_scaled = scaler.fit_transform(X_train_encoded)\n",
        "X_test_scaled = scaler.transform(X_test_encoded)\n",
        "\n",
        "for k in range(1, len(X_train.columns)+1):\n",
        "    print(f'{k} features')\n",
        "    \n",
        "    selector = SelectKBest(score_func=f_regression, k=k)\n",
        "    X_train_selected = selector.fit_transform(X_train_scaled, y_train)\n",
        "    X_test_selected = selector.transform(X_test_scaled)\n",
        "    \n",
        "    model = LinearRegression()\n",
        "    model.fit(X_train_selected, y_train)\n",
        "    \n",
        "    y_pred = model.predict(X_test_selected)\n",
        "    mae = mean_absolute_error(y_test, y_pred)\n",
        "    print(f'Test MAE: ${mae:,.0f} \\n')"
      ],
      "execution_count": 73,
      "outputs": [
        {
          "output_type": "stream",
          "text": [
            "1 features\n",
            "Test MAE: $315,776 \n",
            "\n",
            "2 features\n",
            "Test MAE: $315,412 \n",
            "\n",
            "3 features\n",
            "Test MAE: $314,925 \n",
            "\n",
            "4 features\n",
            "Test MAE: $313,128 \n",
            "\n",
            "5 features\n",
            "Test MAE: $313,049 \n",
            "\n",
            "6 features\n",
            "Test MAE: $313,002 \n",
            "\n",
            "7 features\n",
            "Test MAE: $312,482 \n",
            "\n",
            "8 features\n",
            "Test MAE: $310,358 \n",
            "\n",
            "9 features\n",
            "Test MAE: $310,336 \n",
            "\n"
          ],
          "name": "stdout"
        }
      ]
    }
  ]
}