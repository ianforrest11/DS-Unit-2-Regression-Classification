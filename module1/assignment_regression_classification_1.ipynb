{
  "nbformat": 4,
  "nbformat_minor": 0,
  "metadata": {
    "colab": {
      "name": "assignment_regression_classification_1.ipynb",
      "version": "0.3.2",
      "provenance": [],
      "collapsed_sections": [],
      "include_colab_link": true
    },
    "kernelspec": {
      "name": "python3",
      "display_name": "Python 3"
    }
  },
  "cells": [
    {
      "cell_type": "markdown",
      "metadata": {
        "id": "view-in-github",
        "colab_type": "text"
      },
      "source": [
        "<a href=\"https://colab.research.google.com/github/ianforrest11/DS-Unit-2-Regression-Classification/blob/master/module1/assignment_regression_classification_1.ipynb\" target=\"_parent\"><img src=\"https://colab.research.google.com/assets/colab-badge.svg\" alt=\"Open In Colab\"/></a>"
      ]
    },
    {
      "cell_type": "markdown",
      "metadata": {
        "id": "7IXUfiQ2UKj6",
        "colab_type": "text"
      },
      "source": [
        "Lambda School Data Science, Unit 2: Predictive Modeling\n",
        "\n",
        "# Regression & Classification, Module 1\n",
        "\n",
        "## Assignment\n",
        "\n",
        "You'll use another **New York City** real estate dataset. \n",
        "\n",
        "But now you'll **predict how much it costs to rent an apartment**, instead of how much it costs to buy a condo.\n",
        "\n",
        "\n",
        "The data comes from renthop.com, an apartment listing website.\n",
        "\n",
        "- [X] Look at the data. What's the distribution of the target, `price`, and features such as `longitude` and `latitude`? Remove outliers.\n",
        "- [X] After you remove outliers, what is the mean price in your subset of the data?\n",
        "- [X] Choose a feature, and plot its relationship with the target.\n",
        "- [X] Use scikit-learn for linear regression with one feature. You can follow the [5-step process from Jake VanderPlas](https://jakevdp.github.io/PythonDataScienceHandbook/05.02-introducing-scikit-learn.html#Basics-of-the-API).\n",
        "- [X] Define a function to make new predictions and explain the model coefficient.\n",
        "- [X] Organize and comment your code.\n",
        "\n",
        "> [Do Not Copy-Paste.](https://docs.google.com/document/d/1ubOw9B3Hfip27hF2ZFnW3a3z9xAgrUDRReOEo-FHCVs/edit) You must type each of these exercises in, manually. If you copy and paste, you might as well not even do them. The point of these exercises is to train your hands, your brain, and your mind in how to read, write, and see code. If you copy-paste, you are cheating yourself out of the effectiveness of the lessons.\n",
        "\n",
        "## Stretch Goals\n",
        "- [ ] Do linear regression with two or more features.\n",
        "- [X] Read [The Discovery of Statistical Regression](https://priceonomics.com/the-discovery-of-statistical-regression/)\n",
        "- [X] Read [_An Introduction to Statistical Learning_](http://faculty.marshall.usc.edu/gareth-james/ISL/ISLR%20Seventh%20Printing.pdf), Chapter 2.1: What Is Statistical Learning?\n",
        "- [X] Do the [Plotly Dash](https://dash.plot.ly/) Tutorial, Parts 1 & 2."
      ]
    },
    {
      "cell_type": "code",
      "metadata": {
        "id": "o9eSnDYhUGD7",
        "colab_type": "code",
        "colab": {}
      },
      "source": [
        "# If you're in Colab...\n",
        "import os, sys\n",
        "in_colab = 'google.colab' in sys.modules\n",
        "\n",
        "if in_colab:\n",
        "    # Install required python packages:\n",
        "    # pandas-profiling, version >= 2.0\n",
        "    # plotly, version >= 4.0\n",
        "    !pip install --upgrade pandas-profiling plotly\n",
        "    \n",
        "    # Pull files from Github repo\n",
        "    os.chdir('/content')\n",
        "    !git init .\n",
        "    !git remote add origin https://github.com/LambdaSchool/DS-Unit-2-Regression-Classification.git\n",
        "    !git pull origin master\n",
        "    \n",
        "    # Change into directory for module\n",
        "    os.chdir('module1')"
      ],
      "execution_count": 0,
      "outputs": []
    },
    {
      "cell_type": "code",
      "metadata": {
        "id": "ipBYS77PUwNR",
        "colab_type": "code",
        "colab": {}
      },
      "source": [
        "# Ignore this Numpy warning when using Plotly Express:\n",
        "# FutureWarning: Method .ptp is deprecated and will be removed in a future version. Use numpy.ptp instead.\n",
        "import warnings\n",
        "warnings.filterwarnings(action='ignore', category=FutureWarning, module='numpy')"
      ],
      "execution_count": 0,
      "outputs": []
    },
    {
      "cell_type": "code",
      "metadata": {
        "id": "4S2wXSrFV_g4",
        "colab_type": "code",
        "colab": {}
      },
      "source": [
        "# Read New York City apartment rental listing data\n",
        "import pandas as pd\n",
        "import numpy as np\n",
        "df = pd.read_csv('../data/renthop-nyc.csv')\n",
        "assert df.shape == (49352, 34)\n",
        "import seaborn as sns\n",
        "import matplotlib.pyplot as plt\n",
        "import plotly.express as px\n",
        "from sklearn.linear_model import LinearRegression"
      ],
      "execution_count": 0,
      "outputs": []
    },
    {
      "cell_type": "code",
      "metadata": {
        "id": "oHWAmR3PePgD",
        "colab_type": "code",
        "colab": {
          "base_uri": "https://localhost:8080/",
          "height": 416
        },
        "outputId": "636248aa-5753-4079-c43e-c88f9d2e9b65"
      },
      "source": [
        "# Set latitude and longitude of NYC\n",
        "# set price below $20,000\n",
        "\n",
        "df = df[(df['latitude']>=40.505867) & (df['latitude']<=40.748163)]\n",
        "df = df[(df['longitude']>=-74.248192) & (df['longitude']<=-73.909600)]\n",
        "df = df[(df['price'] <= 20000) & (df['price']>200)]\n",
        "\n",
        "\n",
        "# calculate mean price of dataset\n",
        "df.describe()\n",
        "\n",
        "# print mean price of dataset after removing outliers\n",
        "print(\"The mean price of the adjusted dataset is:\", round(df['price'].mean(),0))\n",
        "\n",
        "# plot relationship between latitude and price\n",
        "px.scatter(df, x = 'latitude', y = 'price', trendline='ols')\n",
        "\n",
        "# run linear regression\n",
        "model = LinearRegression()\n",
        "\n",
        "# define features and target, and respective variables\n",
        "features = ['latitude']\n",
        "target = 'price'\n",
        "X = df[features]\n",
        "y = df[target]\n",
        "\n",
        "# fit model\n",
        "model.fit(X,y)\n",
        "\n",
        "# apply model\n",
        "y_pred = model.predict(X)\n",
        "\n",
        "# print model\n",
        "plt.scatter(X,y)\n",
        "plt.plot(X, y_pred)\n",
        "\n",
        "\n",
        "# create predict function\n",
        "def predict(latitude):\n",
        "    y_pred = model.predict([[latitude]])\n",
        "    estimate = y_pred[0]\n",
        "    coefficient = model.coef_[0]\n",
        "    \n",
        "    result = f'${estimate:,.0f} estimated price at {latitude} latitude in New York City.'\n",
        "    explanation = f' Each additional east-bound latitude marker is associated with a ${coefficient:,.0f} increase in this model.'\n",
        "    return result + explanation\n",
        "  \n",
        "predict(40.6)"
      ],
      "execution_count": 283,
      "outputs": [
        {
          "output_type": "stream",
          "text": [
            "The mean price of the adjusted dataset is: 3762.0\n"
          ],
          "name": "stdout"
        },
        {
          "output_type": "execute_result",
          "data": {
            "text/plain": [
              "'$1,782 estimated price at 40.6 latitude in New York City. Each additional east-bound latitude marker is associated with a $16,558 increase in this model.'"
            ]
          },
          "metadata": {
            "tags": []
          },
          "execution_count": 283
        },
        {
          "output_type": "display_data",
          "data": {
            "image/png": "[encoded data removed]",
            "text/plain": [
              "<Figure size 720x432 with 1 Axes>"
            ]
          },
          "metadata": {
            "tags": []
          }
        }
      ]
    }
  ]
}